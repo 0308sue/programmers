{
 "cells": [
  {
   "cell_type": "code",
   "execution_count": 2,
   "id": "2c709e51",
   "metadata": {},
   "outputs": [],
   "source": [
    "#-*- coding: utf-8 -*-"
   ]
  },
  {
   "cell_type": "code",
   "execution_count": 5,
   "id": "431016e7",
   "metadata": {},
   "outputs": [],
   "source": [
    "import math"
   ]
  },
  {
   "cell_type": "code",
   "execution_count": 110,
   "id": "37eb5053",
   "metadata": {},
   "outputs": [],
   "source": [
    "def sosu (x):\n",
    "    for i in range(2,int(math.sqrt(x))+1):\n",
    "        if x % i == 0:\n",
    "            return False\n",
    "    return True;"
   ]
  },
  {
   "cell_type": "code",
   "execution_count": null,
   "id": "52eb690f",
   "metadata": {},
   "outputs": [],
   "source": [
    "# # 제곱근을 구하기 위해 math 라이브러리 임포트\n",
    "# import math\n",
    "\n",
    "# def is_prime_num(n):\n",
    "#     for i in range(2, int(math.sqrt(n))+1): # n의 제곱근을 정수화 시켜준 후 + 1\n",
    "#         if n % i == 0:\n",
    "#             return False\n",
    "\n",
    "#     return True"
   ]
  },
  {
   "cell_type": "code",
   "execution_count": 107,
   "id": "e2f8b3da",
   "metadata": {},
   "outputs": [
    {
     "data": {
      "text/plain": [
       "False"
      ]
     },
     "execution_count": 107,
     "metadata": {},
     "output_type": "execute_result"
    }
   ],
   "source": [
    "sosu(9)"
   ]
  },
  {
   "cell_type": "code",
   "execution_count": 146,
   "id": "7fd6882e",
   "metadata": {},
   "outputs": [],
   "source": [
    "# def solution(nums):\n",
    "#     length = len(nums)\n",
    "#     hap = []\n",
    "#     for a in range(0,length):\n",
    "#         nums1 = nums.copy()\n",
    "#         first = nums1[a]\n",
    "#         print(\"A:\",first)\n",
    "#         del nums1[a]\n",
    "#         left = length -1\n",
    "#         print(\"B:\",nums1)\n",
    "#         for b in range(0,left):\n",
    "#             second = nums1[b]\n",
    "#             nums2 = nums1.copy()\n",
    "#             del nums1[b]\n",
    "#             left -= 1           \n",
    "#             for c in range(0,left) :\n",
    "#                 third = nums1[c]\n",
    "#                 num = first+second+third\n",
    "#                 print(num)\n",
    "#                 if sosu(num) :\n",
    "#                     hap.append(num)\n",
    "#             nums1 = nums2\n",
    "#     print(set(hap))\n",
    "#     answer = len(set(hap))\n",
    "#     return answer\n",
    "\n",
    "def solution(nums):\n",
    "    answer = 0\n",
    "    for a in range(0,len(nums)):  \n",
    "        first = nums[a]\n",
    "        for b in range(a+1,len(nums)):\n",
    "            second = nums[b]      \n",
    "            for c in range(b+1,len(nums)) :\n",
    "                third = nums[c]\n",
    "                num = first+second+third\n",
    "                if sosu(num) :\n",
    "                    answer += 1\n",
    "    return answer\n",
    "                 "
   ]
  },
  {
   "cell_type": "code",
   "execution_count": 4,
   "id": "627f5f1e",
   "metadata": {},
   "outputs": [
    {
     "data": {
      "text/plain": [
       "6"
      ]
     },
     "execution_count": 4,
     "metadata": {},
     "output_type": "execute_result"
    }
   ],
   "source": [
    "b=6\n",
    "b"
   ]
  },
  {
   "cell_type": "code",
   "execution_count": 147,
   "id": "e1f2e19f",
   "metadata": {},
   "outputs": [
    {
     "data": {
      "text/plain": [
       "4"
      ]
     },
     "execution_count": 147,
     "metadata": {},
     "output_type": "execute_result"
    }
   ],
   "source": [
    "solution([1,2,7,6,4])"
   ]
  },
  {
   "cell_type": "code",
   "execution_count": 30,
   "id": "e2f7ea8d",
   "metadata": {},
   "outputs": [
    {
     "data": {
      "text/plain": [
       "3"
      ]
     },
     "execution_count": 30,
     "metadata": {},
     "output_type": "execute_result"
    }
   ],
   "source": [
    "x = [15,16,17]\n",
    "v = len(x)\n",
    "v"
   ]
  },
  {
   "cell_type": "code",
   "execution_count": 39,
   "id": "bf00003b",
   "metadata": {},
   "outputs": [
    {
     "data": {
      "text/plain": [
       "5"
      ]
     },
     "execution_count": 39,
     "metadata": {},
     "output_type": "execute_result"
    }
   ],
   "source": [
    "n =6\n",
    "n -=1\n",
    "n"
   ]
  },
  {
   "cell_type": "code",
   "execution_count": 38,
   "id": "ee1224a1",
   "metadata": {},
   "outputs": [
    {
     "name": "stdout",
     "output_type": "stream",
     "text": [
      "0\n",
      "1\n",
      "2\n"
     ]
    }
   ],
   "source": [
    "for i in range(0,3):\n",
    "    print(i)"
   ]
  },
  {
   "cell_type": "code",
   "execution_count": 71,
   "id": "ff2d96c5",
   "metadata": {},
   "outputs": [
    {
     "name": "stdout",
     "output_type": "stream",
     "text": [
      "0\n"
     ]
    }
   ],
   "source": [
    "answer = 0\n",
    "if sosu(6) :\n",
    "    print(\"a\")\n",
    "    answer += 1\n",
    "print(answer)"
   ]
  },
  {
   "cell_type": "code",
   "execution_count": 87,
   "id": "29658d07",
   "metadata": {},
   "outputs": [
    {
     "ename": "TypeError",
     "evalue": "'int' object is not iterable",
     "output_type": "error",
     "traceback": [
      "\u001b[0;31m---------------------------------------------------------------------------\u001b[0m",
      "\u001b[0;31mTypeError\u001b[0m                                 Traceback (most recent call last)",
      "Input \u001b[0;32mIn [87]\u001b[0m, in \u001b[0;36m<cell line: 3>\u001b[0;34m()\u001b[0m\n\u001b[1;32m      1\u001b[0m \u001b[38;5;66;03m# k =[]\u001b[39;00m\n\u001b[1;32m      2\u001b[0m k\u001b[38;5;241m.\u001b[39mappend(\u001b[38;5;241m3\u001b[39m)\n\u001b[0;32m----> 3\u001b[0m \u001b[38;5;28;43mset\u001b[39;49m\u001b[43m(\u001b[49m\u001b[43mk\u001b[49m\u001b[43m[\u001b[49m\u001b[38;5;241;43m0\u001b[39;49m\u001b[43m]\u001b[49m\u001b[43m)\u001b[49m\n",
      "\u001b[0;31mTypeError\u001b[0m: 'int' object is not iterable"
     ]
    }
   ],
   "source": [
    "# k =[]\n",
    "k.append(3)\n",
    "set(k[0])\n"
   ]
  },
  {
   "cell_type": "code",
   "execution_count": null,
   "id": "272e8cd2",
   "metadata": {},
   "outputs": [],
   "source": []
  }
 ],
 "metadata": {
  "kernelspec": {
   "display_name": "Python 3 (ipykernel)",
   "language": "python",
   "name": "python3"
  },
  "language_info": {
   "codemirror_mode": {
    "name": "ipython",
    "version": 3
   },
   "file_extension": ".py",
   "mimetype": "text/x-python",
   "name": "python",
   "nbconvert_exporter": "python",
   "pygments_lexer": "ipython3",
   "version": "3.9.12"
  }
 },
 "nbformat": 4,
 "nbformat_minor": 5
}
